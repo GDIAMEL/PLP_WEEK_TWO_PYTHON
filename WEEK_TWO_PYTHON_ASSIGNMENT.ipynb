{
  "nbformat": 4,
  "nbformat_minor": 0,
  "metadata": {
    "colab": {
      "provenance": [],
      "authorship_tag": "ABX9TyOEfSIiyRBWGfMDp9OjRtIa",
      "include_colab_link": true
    },
    "kernelspec": {
      "name": "python3",
      "display_name": "Python 3"
    },
    "language_info": {
      "name": "python"
    }
  },
  "cells": [
    {
      "cell_type": "markdown",
      "metadata": {
        "id": "view-in-github",
        "colab_type": "text"
      },
      "source": [
        "<a href=\"https://colab.research.google.com/github/GDIAMEL/PLP_WEEK_TWO_PYTHON/blob/main/WEEK_TWO_PYTHON_ASSIGNMENT.ipynb\" target=\"_parent\"><img src=\"https://colab.research.google.com/assets/colab-badge.svg\" alt=\"Open In Colab\"/></a>"
      ]
    },
    {
      "cell_type": "code",
      "source": [
        "# Creating an empty list called my_list.\n",
        "my_list = []"
      ],
      "metadata": {
        "id": "4ciFfbi-MiBl"
      },
      "execution_count": 15,
      "outputs": []
    },
    {
      "cell_type": "code",
      "source": [
        "# Appending the following elements to my_list: 10, 20, 30, 40.\n",
        "my_list.append(10)\n",
        "my_list.append(20)\n",
        "my_list.append(30)\n",
        "my_list.append(40)"
      ],
      "metadata": {
        "id": "eypIfRm-M7U4"
      },
      "execution_count": 16,
      "outputs": []
    },
    {
      "cell_type": "code",
      "source": [
        "# Checking the results of the previous append\n",
        "my_list"
      ],
      "metadata": {
        "colab": {
          "base_uri": "https://localhost:8080/"
        },
        "id": "6eDp9-H2NuB9",
        "outputId": "d0172302-3ac5-4ba8-a91e-4bc648011ff1"
      },
      "execution_count": 17,
      "outputs": [
        {
          "output_type": "execute_result",
          "data": {
            "text/plain": [
              "[10, 20, 30, 40]"
            ]
          },
          "metadata": {},
          "execution_count": 17
        }
      ]
    },
    {
      "cell_type": "code",
      "source": [
        "# Insert the value 15 at the second position in the list.\n",
        "my_list.insert(1, 15)"
      ],
      "metadata": {
        "id": "1JIf3npZN2Ue"
      },
      "execution_count": 18,
      "outputs": []
    },
    {
      "cell_type": "code",
      "source": [
        "# checking whether the 15 was inserted succesfully\n",
        "my_list"
      ],
      "metadata": {
        "colab": {
          "base_uri": "https://localhost:8080/"
        },
        "id": "e3W2cBnFPBCr",
        "outputId": "560d5781-44fe-4ded-f0c2-2d6fca3bb99b"
      },
      "execution_count": 19,
      "outputs": [
        {
          "output_type": "execute_result",
          "data": {
            "text/plain": [
              "[10, 15, 20, 30, 40]"
            ]
          },
          "metadata": {},
          "execution_count": 19
        }
      ]
    },
    {
      "cell_type": "code",
      "source": [
        "# Extending my_list with another list: [50, 60, 70].\n",
        "my_list.extend([50, 60, 70])"
      ],
      "metadata": {
        "id": "8o4nTgg1OZiK"
      },
      "execution_count": 20,
      "outputs": []
    },
    {
      "cell_type": "code",
      "source": [
        "# checking whether the extension was successful\n",
        "my_list"
      ],
      "metadata": {
        "colab": {
          "base_uri": "https://localhost:8080/"
        },
        "id": "NOm0rQ52O8TT",
        "outputId": "83148cb7-f300-4536-edad-c4094bbfcb0e"
      },
      "execution_count": 21,
      "outputs": [
        {
          "output_type": "execute_result",
          "data": {
            "text/plain": [
              "[10, 15, 20, 30, 40, 50, 60, 70]"
            ]
          },
          "metadata": {},
          "execution_count": 21
        }
      ]
    },
    {
      "cell_type": "code",
      "source": [
        "# Removing the last element from my_list.\n",
        "my_list.pop()"
      ],
      "metadata": {
        "colab": {
          "base_uri": "https://localhost:8080/"
        },
        "id": "-BPfL9wxFq4F",
        "outputId": "490f8f3f-0ed5-4eae-b533-473159e9a1b0"
      },
      "execution_count": 22,
      "outputs": [
        {
          "output_type": "execute_result",
          "data": {
            "text/plain": [
              "70"
            ]
          },
          "metadata": {},
          "execution_count": 22
        }
      ]
    },
    {
      "cell_type": "code",
      "source": [
        "# Sorting my_list in ascending order.\n",
        "my_list.sort()"
      ],
      "metadata": {
        "id": "LIZYL2lkHD4u"
      },
      "execution_count": 23,
      "outputs": []
    },
    {
      "cell_type": "code",
      "source": [
        "# checking the progress of my_list\n",
        "my_list"
      ],
      "metadata": {
        "colab": {
          "base_uri": "https://localhost:8080/"
        },
        "id": "t9y85mf8P-Oo",
        "outputId": "33d50e92-a500-42ff-c69e-51d3de8dd1ea"
      },
      "execution_count": 24,
      "outputs": [
        {
          "output_type": "execute_result",
          "data": {
            "text/plain": [
              "[10, 15, 20, 30, 40, 50, 60]"
            ]
          },
          "metadata": {},
          "execution_count": 24
        }
      ]
    },
    {
      "cell_type": "code",
      "source": [
        "# From the question I have to find and print the index of the value 30 in my_list.\n",
        "index_of_30 = my_list.index(30)\n",
        "print(\"Index of 30:\", index_of_30)"
      ],
      "metadata": {
        "colab": {
          "base_uri": "https://localhost:8080/"
        },
        "id": "FKffwAn4HUG0",
        "outputId": "5349927b-3776-4f60-f379-ae6733b69233"
      },
      "execution_count": 25,
      "outputs": [
        {
          "output_type": "stream",
          "name": "stdout",
          "text": [
            "Index of 30: 3\n"
          ]
        }
      ]
    },
    {
      "cell_type": "code",
      "source": [
        "# checking the output of my final list\n",
        "print(\"This is my final list:\", my_list)"
      ],
      "metadata": {
        "colab": {
          "base_uri": "https://localhost:8080/"
        },
        "id": "XJfnmPNJHZiC",
        "outputId": "f38bf0fe-82cb-46d8-8fc5-6b3f868df16a"
      },
      "execution_count": 26,
      "outputs": [
        {
          "output_type": "stream",
          "name": "stdout",
          "text": [
            "This is my final list: [10, 15, 20, 30, 40, 50, 60]\n"
          ]
        }
      ]
    }
  ]
}